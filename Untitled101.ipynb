{
 "cells": [
  {
   "cell_type": "code",
   "execution_count": null,
   "id": "507e6f81",
   "metadata": {},
   "outputs": [],
   "source": [
    "s = 'abc12321cba'\n",
    "\n",
    "print(s.replace('a', ''))\n"
   ]
  },
  {
   "cell_type": "code",
   "execution_count": null,
   "id": "9859bb79",
   "metadata": {},
   "outputs": [],
   "source": [
    "def findStep(n):\n",
    "    if ( n == 0 ):\n",
    "        return 1\n",
    "    elif (n < 0):\n",
    "        return 0\n",
    " \n",
    "    else:\n",
    "        return findStep(n - 3) + findStep(n - 2) + findStep(n - 1)\n",
    " \n",
    " \n",
    "# Driver code\n",
    "n = 4\n",
    "print(findStep(n))"
   ]
  },
  {
   "cell_type": "code",
   "execution_count": null,
   "id": "5cd2fcf4",
   "metadata": {},
   "outputs": [],
   "source": [
    "int reduce(int a, int b){\n",
    "    while(b){\n",
    "        int carry = ((~a) & b) << 1;\n",
    "        a = a ^ b;\n",
    "        b = carry;\n",
    "    }\n",
    "    return a;\n",
    "}"
   ]
  },
  {
   "cell_type": "code",
   "execution_count": null,
   "id": "124c984a",
   "metadata": {},
   "outputs": [],
   "source": [
    "def flip_list(lst):\n",
    "    if not lst:\n",
    "        return lst\n",
    "\n",
    "    is_vertical = isinstance(lst[0], list)\n",
    "    \n",
    "    if is_vertical:\n",
    "        return [el[0] for el in lst]\n",
    "    \n",
    "    return [[el] for el in lst]"
   ]
  }
 ],
 "metadata": {
  "kernelspec": {
   "display_name": "Python 3",
   "language": "python",
   "name": "python3"
  },
  "language_info": {
   "codemirror_mode": {
    "name": "ipython",
    "version": 3
   },
   "file_extension": ".py",
   "mimetype": "text/x-python",
   "name": "python",
   "nbconvert_exporter": "python",
   "pygments_lexer": "ipython3",
   "version": "3.8.8"
  }
 },
 "nbformat": 4,
 "nbformat_minor": 5
}
